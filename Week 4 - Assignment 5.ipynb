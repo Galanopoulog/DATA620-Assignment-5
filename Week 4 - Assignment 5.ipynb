{
 "cells": [
  {
   "cell_type": "markdown",
   "metadata": {},
   "source": [
    "# Week 4 Assignment 5\n",
    "##### Team 5"
   ]
  },
  {
   "cell_type": "markdown",
   "metadata": {},
   "source": [
    "### Goal: Select a corpus of choice and analyze high frequency words."
   ]
  },
  {
   "cell_type": "markdown",
   "metadata": {},
   "source": [
    "#### 1. Choose a corpus of interest.\n",
    "The corpus chosen was a collection of quotes from the author Terry Pratchett that can be found here: https://www.lspace.org/books/pqf/"
   ]
  },
  {
   "cell_type": "code",
   "execution_count": 121,
   "metadata": {
    "collapsed": false
   },
   "outputs": [],
   "source": [
    "import pandas as pd\n",
    "import numpy as np\n",
    "import matplotlib.pyplot as plt\n",
    "%matplotlib inline\n",
    "import nltk\n",
    "# nltk.download(\"all\") # You can manually download from nltk by leaving the parentheses empty\n",
    "from nltk.book import *"
   ]
  },
  {
   "cell_type": "code",
   "execution_count": 2,
   "metadata": {
    "collapsed": false
   },
   "outputs": [],
   "source": [
    "# Loading our quotes corpus\n",
    "f = open(\"pqf.txt\", \"rU\")\n",
    "text = f.read()\n",
    "terrytext = text.split()\n",
    "quotes = nltk.Text(terrytext)"
   ]
  },
  {
   "cell_type": "code",
   "execution_count": 3,
   "metadata": {
    "collapsed": false
   },
   "outputs": [
    {
     "data": {
      "text/plain": [
       "23487"
      ]
     },
     "execution_count": 3,
     "metadata": {},
     "output_type": "execute_result"
    }
   ],
   "source": [
    "# Length\n",
    "len(quotes)"
   ]
  },
  {
   "cell_type": "markdown",
   "metadata": {},
   "source": [
    "#### 2. How many total unique words are in the corpus? (Please feel free to define unique words in any interesting, defensible way).\n",
    "Unique was to be defined as words not in the english dictionary. As such, we were to compare the corpus against a dictionary. To achieve this, we first attempted to import the \"words\" library from nltk.corpus, however, upon discovering that the words that passed as unique mostly included verbs in past or present tense, we decided to rely more on the dictionary of pronounciations from nltk.corpus, since it included verb tenses. Though the results were not perfect, they were better at removing non-unique words. "
   ]
  },
  {
   "cell_type": "code",
   "execution_count": 29,
   "metadata": {
    "collapsed": false
   },
   "outputs": [],
   "source": [
    "# Cleaning up corpus by removing punctuation and common words\n",
    "from nltk.corpus import stopwords\n",
    "quotes = [w for w in quotes if w.isalpha()]\n",
    "quotes = [w for w in quotes if w not in stopwords.words('english')]"
   ]
  },
  {
   "cell_type": "code",
   "execution_count": 50,
   "metadata": {
    "collapsed": false
   },
   "outputs": [
    {
     "data": {
      "text/plain": [
       "133737"
      ]
     },
     "execution_count": 50,
     "metadata": {},
     "output_type": "execute_result"
    }
   ],
   "source": [
    "# Unique words from pronounciation syllables\n",
    "entries = nltk.corpus.cmudict.entries()\n",
    "entries = [item[0] for item in entries] # Remove pronounciation\n",
    "len(entries)"
   ]
  },
  {
   "cell_type": "code",
   "execution_count": 52,
   "metadata": {
    "collapsed": false
   },
   "outputs": [],
   "source": [
    "# Remove words not found in our pronounciation dictionary\n",
    "# Because the words weren't made lowercase earlier in the \"quotes\" list, we do it again to remove common words\n",
    "sub  = [w.lower() for w in quotes if w not in entries]\n",
    "sub = [w for w in sub if w not in stopwords.words('english')]"
   ]
  },
  {
   "cell_type": "code",
   "execution_count": 61,
   "metadata": {
    "collapsed": false
   },
   "outputs": [
    {
     "data": {
      "text/plain": [
       "['surely', 'people', 'star', 'trek', 'ye', 'cannae', 'oout', 'feegle', 'wee']"
      ]
     },
     "execution_count": 61,
     "metadata": {},
     "output_type": "execute_result"
    }
   ],
   "source": [
    "sub[0:9]"
   ]
  },
  {
   "cell_type": "code",
   "execution_count": 62,
   "metadata": {
    "collapsed": false
   },
   "outputs": [
    {
     "data": {
      "text/plain": [
       "1843"
      ]
     },
     "execution_count": 62,
     "metadata": {},
     "output_type": "execute_result"
    }
   ],
   "source": [
    "len(sub)"
   ]
  },
  {
   "cell_type": "markdown",
   "metadata": {},
   "source": [
    "#### 3. Taking the most common words, how many unique words represent half of the total words in the corpus?\n",
    "Since our corpus contained 23,487 words, the number of most common unique words that take 50% of the corpus should be calculate in such a way that summing the count of each of the unique words adds up to approximately 11,744 words. Because the pool of unique words is so small (858 rows), the sum of the words totals is nowhere near 50% of corpus' volume. At best, it is 7%."
   ]
  },
  {
   "cell_type": "code",
   "execution_count": 213,
   "metadata": {
    "collapsed": false
   },
   "outputs": [
    {
     "data": {
      "text/html": [
       "<div>\n",
       "<table border=\"1\" class=\"dataframe\">\n",
       "  <thead>\n",
       "    <tr style=\"text-align: right;\">\n",
       "      <th></th>\n",
       "      <th>word</th>\n",
       "      <th>n</th>\n",
       "      <th>relative_frequency</th>\n",
       "    </tr>\n",
       "  </thead>\n",
       "  <tbody>\n",
       "    <tr>\n",
       "      <th>0</th>\n",
       "      <td>small</td>\n",
       "      <td>54</td>\n",
       "      <td>0.021594</td>\n",
       "    </tr>\n",
       "    <tr>\n",
       "      <th>1</th>\n",
       "      <td>good</td>\n",
       "      <td>53</td>\n",
       "      <td>0.015236</td>\n",
       "    </tr>\n",
       "    <tr>\n",
       "      <th>2</th>\n",
       "      <td>pratchett</td>\n",
       "      <td>51</td>\n",
       "      <td>0.010194</td>\n",
       "    </tr>\n",
       "    <tr>\n",
       "      <th>3</th>\n",
       "      <td>neil</td>\n",
       "      <td>51</td>\n",
       "      <td>0.008988</td>\n",
       "    </tr>\n",
       "    <tr>\n",
       "      <th>4</th>\n",
       "      <td>moving</td>\n",
       "      <td>51</td>\n",
       "      <td>0.008002</td>\n",
       "    </tr>\n",
       "    <tr>\n",
       "      <th>5</th>\n",
       "      <td>lords</td>\n",
       "      <td>34</td>\n",
       "      <td>0.007454</td>\n",
       "    </tr>\n",
       "    <tr>\n",
       "      <th>6</th>\n",
       "      <td>death</td>\n",
       "      <td>26</td>\n",
       "      <td>0.007454</td>\n",
       "    </tr>\n",
       "    <tr>\n",
       "      <th>7</th>\n",
       "      <td>gaspode</td>\n",
       "      <td>24</td>\n",
       "      <td>0.005919</td>\n",
       "    </tr>\n",
       "    <tr>\n",
       "      <th>8</th>\n",
       "      <td>men</td>\n",
       "      <td>22</td>\n",
       "      <td>0.005700</td>\n",
       "    </tr>\n",
       "    <tr>\n",
       "      <th>9</th>\n",
       "      <td>johnny</td>\n",
       "      <td>21</td>\n",
       "      <td>0.005590</td>\n",
       "    </tr>\n",
       "  </tbody>\n",
       "</table>\n",
       "</div>"
      ],
      "text/plain": [
       "        word   n  relative_frequency\n",
       "0      small  54            0.021594\n",
       "1       good  53            0.015236\n",
       "2  pratchett  51            0.010194\n",
       "3       neil  51            0.008988\n",
       "4     moving  51            0.008002\n",
       "5      lords  34            0.007454\n",
       "6      death  26            0.007454\n",
       "7    gaspode  24            0.005919\n",
       "8        men  22            0.005700\n",
       "9     johnny  21            0.005590"
      ]
     },
     "execution_count": 213,
     "metadata": {},
     "output_type": "execute_result"
    }
   ],
   "source": [
    "topunique = nltk.FreqDist(sub)\n",
    "topcount = pd.DataFrame(topunique.most_common(), columns=['word','n'])\n",
    "topcount['relative_frequency'] = (quotes_freq['n']/float(len(quotes)))\n",
    "topcount.head(10)"
   ]
  },
  {
   "cell_type": "code",
   "execution_count": 90,
   "metadata": {
    "collapsed": false
   },
   "outputs": [
    {
     "data": {
      "text/plain": [
       "858"
      ]
     },
     "execution_count": 90,
     "metadata": {},
     "output_type": "execute_result"
    }
   ],
   "source": [
    "len(topcount)"
   ]
  },
  {
   "cell_type": "markdown",
   "metadata": {},
   "source": [
    "#### 4. Identify the 200 highest frequency words in this corpus."
   ]
  },
  {
   "cell_type": "code",
   "execution_count": 206,
   "metadata": {
    "collapsed": false
   },
   "outputs": [
    {
     "data": {
      "text/html": [
       "<div>\n",
       "<table border=\"1\" class=\"dataframe\">\n",
       "  <thead>\n",
       "    <tr style=\"text-align: right;\">\n",
       "      <th></th>\n",
       "      <th>word</th>\n",
       "      <th>n</th>\n",
       "      <th>relative_frequency</th>\n",
       "    </tr>\n",
       "  </thead>\n",
       "  <tbody>\n",
       "    <tr>\n",
       "      <th>0</th>\n",
       "      <td>The</td>\n",
       "      <td>197</td>\n",
       "      <td>0.021594</td>\n",
       "    </tr>\n",
       "    <tr>\n",
       "      <th>1</th>\n",
       "      <td>I</td>\n",
       "      <td>139</td>\n",
       "      <td>0.015236</td>\n",
       "    </tr>\n",
       "    <tr>\n",
       "      <th>2</th>\n",
       "      <td>said</td>\n",
       "      <td>93</td>\n",
       "      <td>0.010194</td>\n",
       "    </tr>\n",
       "    <tr>\n",
       "      <th>3</th>\n",
       "      <td>one</td>\n",
       "      <td>82</td>\n",
       "      <td>0.008988</td>\n",
       "    </tr>\n",
       "    <tr>\n",
       "      <th>4</th>\n",
       "      <td>people</td>\n",
       "      <td>73</td>\n",
       "      <td>0.008002</td>\n",
       "    </tr>\n",
       "    <tr>\n",
       "      <th>5</th>\n",
       "      <td>It</td>\n",
       "      <td>68</td>\n",
       "      <td>0.007454</td>\n",
       "    </tr>\n",
       "    <tr>\n",
       "      <th>6</th>\n",
       "      <td>like</td>\n",
       "      <td>68</td>\n",
       "      <td>0.007454</td>\n",
       "    </tr>\n",
       "    <tr>\n",
       "      <th>7</th>\n",
       "      <td>Small</td>\n",
       "      <td>54</td>\n",
       "      <td>0.005919</td>\n",
       "    </tr>\n",
       "    <tr>\n",
       "      <th>8</th>\n",
       "      <td>Good</td>\n",
       "      <td>52</td>\n",
       "      <td>0.005700</td>\n",
       "    </tr>\n",
       "    <tr>\n",
       "      <th>9</th>\n",
       "      <td>Moving</td>\n",
       "      <td>51</td>\n",
       "      <td>0.005590</td>\n",
       "    </tr>\n",
       "    <tr>\n",
       "      <th>10</th>\n",
       "      <td>Neil</td>\n",
       "      <td>51</td>\n",
       "      <td>0.005590</td>\n",
       "    </tr>\n",
       "    <tr>\n",
       "      <th>11</th>\n",
       "      <td>Pratchett</td>\n",
       "      <td>51</td>\n",
       "      <td>0.005590</td>\n",
       "    </tr>\n",
       "    <tr>\n",
       "      <th>12</th>\n",
       "      <td>could</td>\n",
       "      <td>50</td>\n",
       "      <td>0.005481</td>\n",
       "    </tr>\n",
       "    <tr>\n",
       "      <th>13</th>\n",
       "      <td>A</td>\n",
       "      <td>47</td>\n",
       "      <td>0.005152</td>\n",
       "    </tr>\n",
       "    <tr>\n",
       "      <th>14</th>\n",
       "      <td>get</td>\n",
       "      <td>43</td>\n",
       "      <td>0.004713</td>\n",
       "    </tr>\n",
       "    <tr>\n",
       "      <th>15</th>\n",
       "      <td>would</td>\n",
       "      <td>38</td>\n",
       "      <td>0.004165</td>\n",
       "    </tr>\n",
       "    <tr>\n",
       "      <th>16</th>\n",
       "      <td>always</td>\n",
       "      <td>37</td>\n",
       "      <td>0.004056</td>\n",
       "    </tr>\n",
       "    <tr>\n",
       "      <th>17</th>\n",
       "      <td>And</td>\n",
       "      <td>37</td>\n",
       "      <td>0.004056</td>\n",
       "    </tr>\n",
       "    <tr>\n",
       "      <th>18</th>\n",
       "      <td>thought</td>\n",
       "      <td>37</td>\n",
       "      <td>0.004056</td>\n",
       "    </tr>\n",
       "    <tr>\n",
       "      <th>19</th>\n",
       "      <td>Lords</td>\n",
       "      <td>34</td>\n",
       "      <td>0.003727</td>\n",
       "    </tr>\n",
       "  </tbody>\n",
       "</table>\n",
       "</div>"
      ],
      "text/plain": [
       "         word    n  relative_frequency\n",
       "0         The  197            0.021594\n",
       "1           I  139            0.015236\n",
       "2        said   93            0.010194\n",
       "3         one   82            0.008988\n",
       "4      people   73            0.008002\n",
       "5          It   68            0.007454\n",
       "6        like   68            0.007454\n",
       "7       Small   54            0.005919\n",
       "8        Good   52            0.005700\n",
       "9      Moving   51            0.005590\n",
       "10       Neil   51            0.005590\n",
       "11  Pratchett   51            0.005590\n",
       "12      could   50            0.005481\n",
       "13          A   47            0.005152\n",
       "14        get   43            0.004713\n",
       "15      would   38            0.004165\n",
       "16     always   37            0.004056\n",
       "17        And   37            0.004056\n",
       "18    thought   37            0.004056\n",
       "19      Lords   34            0.003727"
      ]
     },
     "execution_count": 206,
     "metadata": {},
     "output_type": "execute_result"
    }
   ],
   "source": [
    "# Build the frequency distribution table\n",
    "quotes_freq = nltk.FreqDist(quotes)\n",
    "quotes_freq = pd.DataFrame(quotes_freq.most_common(200), columns=['word','n'])\n",
    "quotes_freq['relative_frequency'] = (quotes_freq['n']/float(len(quotes)))\n",
    "quotes_freq.head(20)"
   ]
  },
  {
   "cell_type": "markdown",
   "metadata": {},
   "source": [
    "#### 5. Create a graph that shows the relative frequency of these 200 words.\n",
    "Relative frequency plot of top 200 words"
   ]
  },
  {
   "cell_type": "code",
   "execution_count": 108,
   "metadata": {
    "collapsed": false
   },
   "outputs": [
    {
     "data": {
      "image/png": "[encoded data removed]",
      "text/plain": [
       "<matplotlib.figure.Figure at 0x11aeaac8>"
      ]
     },
     "metadata": {},
     "output_type": "display_data"
    }
   ],
   "source": [
    "freq_plot = nltk.FreqDist(quotes)\n",
    "plt.figure(figsize=(15,5))\n",
    "freq_plot.plot(200)"
   ]
  },
  {
   "cell_type": "markdown",
   "metadata": {},
   "source": [
    "Frequency histogram of top 200 words, with top ten unique words highlighted in red."
   ]
  },
  {
   "cell_type": "code",
   "execution_count": 261,
   "metadata": {
    "collapsed": false
   },
   "outputs": [
    {
     "data": {
      "image/png": "[encoded data removed]",
      "text/plain": [
       "<matplotlib.figure.Figure at 0x159f88d0>"
      ]
     },
     "metadata": {},
     "output_type": "display_data"
    }
   ],
   "source": [
    "plt.figure(figsize=(15,5))\n",
    "pos = np.arange(len(quotes_freq))\n",
    "ax = plt.axes()\n",
    "ax.set_xticklabels(quotes_freq.word, rotation=90)\n",
    "\n",
    "freq_hist = plt.bar(pos, quotes_freq.relative_frequency, color='b')\n",
    "freq_hist[9].set_color('r')\n",
    "freq_hist[10].set_color('r')\n",
    "freq_hist[11].set_color('r')\n",
    "freq_hist[19].set_color('r')\n",
    "freq_hist[32].set_color('r')\n",
    "freq_hist[34].set_color('r')\n",
    "freq_hist[44].set_color('r')\n",
    "freq_hist[46].set_color('r')\n",
    "freq_hist[74].set_color('r')\n",
    "freq_hist[174].set_color('r')\n",
    "\n",
    "plt.show()"
   ]
  },
  {
   "cell_type": "markdown",
   "metadata": {},
   "source": [
    "#### 6. Does the observed relative frequency of these words follow Zipf’s law? Explain."
   ]
  },
  {
   "cell_type": "markdown",
   "metadata": {
    "collapsed": true
   },
   "source": [
    "Zipf's law: given a large sample of words used, the frequency of any word is inversely proportional to its rank in the frequency table. Aka, low rank on the frequency table means very frequently used word. The most frequent word will occur approximately twice as often as the second most frequent word, which will occur approximately twice as often as the fourth most frequent word "
   ]
  },
  {
   "cell_type": "code",
   "execution_count": null,
   "metadata": {
    "collapsed": true
   },
   "outputs": [],
   "source": []
  },
  {
   "cell_type": "markdown",
   "metadata": {},
   "source": [
    "#### 7. In what ways do you think the frequency of the words in this corpus differ from “all words in all corpora.”"
   ]
  },
  {
   "cell_type": "markdown",
   "metadata": {
    "collapsed": true
   },
   "source": [
    "Terry Pratchett is an author who plays with both comedy and fantasy. As such, it would not be surprising if words that would have a lower frequency in other corpus have a higher one here. For example, Death pops up more often in this corpus than would probably be expected in another simply because Death in the Discworld series is an important character. In addition, due to the nature of the books, exclamations not heard in even english vernacular may be presented as typical. Words may also be made up entirely and used rather frequently."
   ]
  }
 ],
 "metadata": {
  "kernelspec": {
   "display_name": "Python 2",
   "language": "python",
   "name": "python2"
  },
  "language_info": {
   "codemirror_mode": {
    "name": "ipython",
    "version": 2
   },
   "file_extension": ".py",
   "mimetype": "text/x-python",
   "name": "python",
   "nbconvert_exporter": "python",
   "pygments_lexer": "ipython2",
   "version": "2.7.11"
  }
 },
 "nbformat": 4,
 "nbformat_minor": 0
}
